{
 "cells": [
  {
   "cell_type": "code",
   "execution_count": 1,
   "metadata": {
    "collapsed": true
   },
   "outputs": [],
   "source": [
    "import numpy as np\n",
    "import csv\n",
    "import pandas as pd\n",
    "import re"
   ]
  },
  {
   "cell_type": "code",
   "execution_count": 51,
   "metadata": {
    "collapsed": true
   },
   "outputs": [],
   "source": [
    "# Original, only for m0\n",
    "\n",
    "# f_convs = open('cornell movie-dialogs corpus/movie_conversations.txt','r')\n",
    "# message = f_convs.readline()\n",
    "# message = message.split(\" +++$+++ \")\n",
    "\n",
    "# movie_convos = [re.findall(r'L[0-9][0-9][0-9]', message[3])]\n",
    "\n",
    "# for i in range(0,1):\n",
    "#     while message[2] == 'm0':\n",
    "#         message = f_convs.readline()\n",
    "#         message = message.split(\" +++$+++ \")\n",
    "#         if bool(re.search(r'L[0-9][0-9][0-9][0-9]', message[3])) == False:\n",
    "#             if bool(re.search(r'L[0-9][0-9][0-9]', message[3])) == False:\n",
    "#                 movie_convos.append(re.findall(r'L[0-9][0-9]', message[3]))\n",
    "#             elif bool(re.search(r'L[0-9][0-9][0-9]', message[3])) == True:\n",
    "#                 movie_convos.append(re.findall(r'L[0-9][0-9][0-9]', message[3]))\n",
    "#         elif bool(re.search(r'L[0-9][0-9][0-9][0-9]', message[3])) == True:\n",
    "#             movie_convos.append(re.findall(r'L[0-9][0-9][0-9][0-9]', message[3]))\n",
    "# movie_convos = movie_convos[0:-1]   "
   ]
  },
  {
   "cell_type": "code",
   "execution_count": 124,
   "metadata": {
    "collapsed": true
   },
   "outputs": [],
   "source": [
    "# Extract Line for m0 \n",
    "\n",
    "# f_lines = open('cornell movie-dialogs corpus/movie_lines.txt','r')\n",
    "# message2 = f_lines.readline()\n",
    "# message2 = message2.split(\" +++$+++ \")\n",
    "\n",
    "# name_lines = [(message2[-2:][1]).strip()]\n",
    "# line_nums = [message2[0]]\n",
    "\n",
    "# for i in range(2):\n",
    "#     while message2[2] == 'm0':\n",
    "#         message2 = f_lines.readline()\n",
    "#         message2 = message2.split(\" +++$+++ \")\n",
    "#         name_line = (message2[-2:][1]).strip()\n",
    "#         name_lines.append(name_line)\n",
    "#         line_nums.append(message2[0])\n",
    "# name_lines = name_lines[0:-1] \n",
    "# line_nums = line_nums[0:-1]"
   ]
  },
  {
   "cell_type": "code",
   "execution_count": 26,
   "metadata": {
    "collapsed": true
   },
   "outputs": [],
   "source": [
    "# df_name_lines = pd.DataFrame()"
   ]
  },
  {
   "cell_type": "code",
   "execution_count": 27,
   "metadata": {
    "collapsed": true
   },
   "outputs": [],
   "source": [
    "# df_name_lines['line #'] = line_nums\n",
    "# df_name_lines['line'] = name_lines"
   ]
  },
  {
   "cell_type": "code",
   "execution_count": 22,
   "metadata": {
    "collapsed": true
   },
   "outputs": [],
   "source": [
    "# Original .txt file write\n",
    "\n",
    "# f3 = open(\"dialogues_m0.txt\", \"w\")\n",
    "\n",
    "# for i in range(len(movie_convos)):\n",
    "#     for k in movie_convos[i]:\n",
    "#         f3.write(\"d\" + str(i) + \": \" + str(df_name_lines['line'][df_name_lines['line #'] == k].values[0]) + '\\n')\n",
    "        \n",
    "# f3.close()"
   ]
  },
  {
   "cell_type": "code",
   "execution_count": null,
   "metadata": {
    "collapsed": true
   },
   "outputs": [],
   "source": [
    "# .txt file with all dialogues from romance genre movies"
   ]
  },
  {
   "cell_type": "code",
   "execution_count": 226,
   "metadata": {
    "collapsed": true
   },
   "outputs": [],
   "source": [
    "f_titles = open('cornell movie-dialogs corpus/movie_titles_metadata.txt','r')\n",
    "message3 = f_titles.readline()\n",
    "message3 = message3.split(\" +++$+++ \")"
   ]
  },
  {
   "cell_type": "code",
   "execution_count": 100,
   "metadata": {
    "collapsed": true
   },
   "outputs": [],
   "source": [
    "movie_titles = []\n",
    "\n",
    "with open('cornell movie-dialogs corpus/movie_titles_metadata.txt','r') as f:\n",
    "    for movie in f:\n",
    "        movie = movie.split(\" +++$+++ \")\n",
    "        movie_titles.append(movie)"
   ]
  },
  {
   "cell_type": "code",
   "execution_count": 167,
   "metadata": {
    "collapsed": true
   },
   "outputs": [],
   "source": [
    "convos = []\n",
    "\n",
    "with open('cornell movie-dialogs corpus/movie_conversations.txt','r') as f:\n",
    "    for convo in f:\n",
    "        convo = convo.split(\" +++$+++ \")\n",
    "        convos.append(convo)"
   ]
  },
  {
   "cell_type": "code",
   "execution_count": 118,
   "metadata": {
    "collapsed": true
   },
   "outputs": [],
   "source": [
    "lines = []\n",
    "\n",
    "with open('cornell movie-dialogs corpus//movie_lines.txt','r') as f:\n",
    "    for line in f:\n",
    "        line = line.split(\" +++$+++ \")\n",
    "        lines.append(line)"
   ]
  },
  {
   "cell_type": "code",
   "execution_count": 110,
   "metadata": {
    "collapsed": true
   },
   "outputs": [],
   "source": [
    "# Generate list of romance movie IDs\n",
    "\n",
    "f_titles = open('cornell movie-dialogs corpus/movie_titles_metadata.txt','r')\n",
    "\n",
    "# There are 616 movies\n",
    "\n",
    "movie_ids = []\n",
    "\n",
    "for i in range(0,615):\n",
    "    if bool(re.search('romance' , movie_titles[i][-1])) == True:\n",
    "        movie_ids.append(movie_titles[i][0])"
   ]
  },
  {
   "cell_type": "code",
   "execution_count": 253,
   "metadata": {
    "collapsed": true
   },
   "outputs": [],
   "source": [
    "# Create list of all lines in all romance movies, misses last lines of each movie\n",
    "\n",
    "movies_list = movie_ids\n",
    "movie_convos = []\n",
    "for convo in convos:\n",
    "    for k in movies_list:\n",
    "        if convo[2] == k:\n",
    "            # Append the first line of the movie\n",
    "            if bool(re.search(r'L[0-9][0-9][0-9][0-9][0-9][0-9]', convo[3])) == False:\n",
    "                if bool(re.search(r'[0-9][0-9][0-9][0-9][0-9]', convo[3])) == False:\n",
    "                    if bool(re.search(r'[0-9][0-9][0-9][0-9]', convo[3])) == False:\n",
    "                        if bool(re.search(r'[0-9][0-9][0-9]', convo[3])) == False:\n",
    "                            movie_convos.append(re.findall(r'L[0-9][0-9]', convo[3]))\n",
    "                        elif bool(re.search(r'[0-9][0-9][0-9]', convo[3])) == True:\n",
    "                            movie_convos.append(re.findall(r'L[0-9][0-9][0-9]', convo[3])) \n",
    "                    elif bool(re.search(r'[0-9][0-9][0-9][0-9]', convo[3])) == True:\n",
    "                        movie_convos.append(re.findall(r'L[0-9][0-9][0-9][0-9]', convo[3])) \n",
    "                elif bool(re.search(r'[0-9][0-9][0-9][0-9][0-9]', convo[3])) == True:\n",
    "                    movie_convos.append(re.findall(r'L[0-9][0-9][0-9][0-9][0-9]', convo[3]))\n",
    "            elif bool(re.search(r'L[0-9][0-9][0-9][0-9][0-9][0-9]', convo[3])) == True:\n",
    "                movie_convos.append(re.findall(r'L[0-9][0-9][0-9][0-9][0-9][0-9]', convo[3]))\n",
    "        else:\n",
    "            pass"
   ]
  },
  {
   "cell_type": "code",
   "execution_count": 160,
   "metadata": {
    "collapsed": true
   },
   "outputs": [],
   "source": [
    "movies_list = movie_ids\n",
    "line_nums = []\n",
    "name_lines = []\n",
    "for line in lines:\n",
    "    for k in movies_list:\n",
    "        if line[2] == k: \n",
    "            line_nums.append(line[0])\n",
    "            name_lines.append(line[-2:][1].strip())           "
   ]
  },
  {
   "cell_type": "code",
   "execution_count": 161,
   "metadata": {
    "collapsed": true
   },
   "outputs": [],
   "source": [
    "df_name_lines = pd.DataFrame()"
   ]
  },
  {
   "cell_type": "code",
   "execution_count": 162,
   "metadata": {
    "collapsed": true
   },
   "outputs": [],
   "source": [
    "df_name_lines['line #'] = line_nums\n",
    "df_name_lines['line'] = name_lines"
   ]
  },
  {
   "cell_type": "code",
   "execution_count": 163,
   "metadata": {},
   "outputs": [
    {
     "data": {
      "text/html": [
       "<div>\n",
       "<style>\n",
       "    .dataframe thead tr:only-child th {\n",
       "        text-align: right;\n",
       "    }\n",
       "\n",
       "    .dataframe thead th {\n",
       "        text-align: left;\n",
       "    }\n",
       "\n",
       "    .dataframe tbody tr th {\n",
       "        vertical-align: top;\n",
       "    }\n",
       "</style>\n",
       "<table border=\"1\" class=\"dataframe\">\n",
       "  <thead>\n",
       "    <tr style=\"text-align: right;\">\n",
       "      <th></th>\n",
       "      <th>line #</th>\n",
       "      <th>line</th>\n",
       "    </tr>\n",
       "  </thead>\n",
       "  <tbody>\n",
       "    <tr>\n",
       "      <th>0</th>\n",
       "      <td>L1045</td>\n",
       "      <td>They do not!</td>\n",
       "    </tr>\n",
       "    <tr>\n",
       "      <th>1</th>\n",
       "      <td>L1044</td>\n",
       "      <td>They do to!</td>\n",
       "    </tr>\n",
       "    <tr>\n",
       "      <th>2</th>\n",
       "      <td>L985</td>\n",
       "      <td>I hope so.</td>\n",
       "    </tr>\n",
       "    <tr>\n",
       "      <th>3</th>\n",
       "      <td>L984</td>\n",
       "      <td>She okay?</td>\n",
       "    </tr>\n",
       "    <tr>\n",
       "      <th>4</th>\n",
       "      <td>L925</td>\n",
       "      <td>Let's go.</td>\n",
       "    </tr>\n",
       "  </tbody>\n",
       "</table>\n",
       "</div>"
      ],
      "text/plain": [
       "  line #          line\n",
       "0  L1045  They do not!\n",
       "1  L1044   They do to!\n",
       "2   L985    I hope so.\n",
       "3   L984     She okay?\n",
       "4   L925     Let's go."
      ]
     },
     "execution_count": 163,
     "metadata": {},
     "output_type": "execute_result"
    }
   ],
   "source": [
    "df_name_lines.head(n=5)"
   ]
  },
  {
   "cell_type": "code",
   "execution_count": 263,
   "metadata": {
    "collapsed": true
   },
   "outputs": [],
   "source": [
    "# Writing all romance genre movies\n",
    "\n",
    "f3 = open(\"dialogues_romance.txt\", \"w\")\n",
    "\n",
    "for i in range(len(movie_convos)):\n",
    "    for k in movie_convos[i]:\n",
    "        f3.write(str(df_name_lines['line'][df_name_lines['line #'] == k].values[0]) + '| ')\n",
    "    f3.write('\\n')\n",
    "\n",
    "f3.close()"
   ]
  }
 ],
 "metadata": {
  "kernelspec": {
   "display_name": "Python 2",
   "language": "python",
   "name": "python2"
  },
  "language_info": {
   "codemirror_mode": {
    "name": "ipython",
    "version": 2
   },
   "file_extension": ".py",
   "mimetype": "text/x-python",
   "name": "python",
   "nbconvert_exporter": "python",
   "pygments_lexer": "ipython2",
   "version": "2.7.13"
  }
 },
 "nbformat": 4,
 "nbformat_minor": 2
}
